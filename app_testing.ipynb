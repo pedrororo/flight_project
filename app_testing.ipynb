{
 "cells": [
  {
   "cell_type": "code",
   "execution_count": 2,
   "metadata": {},
   "outputs": [],
   "source": [
    "import requests\n",
    "from datetime import date, timedelta\n",
    "import os\n",
    "from dotenv import load_dotenv\n",
    "\n",
    "# Carrega as variáveis de ambiente do arquivo .env\n",
    "load_dotenv()\n",
    "\n",
    "# Obtém a chave de API e a URL base da API da Amadeus das variáveis de ambiente\n",
    "API_ACCESS_TOKEN = os.getenv(\"AMADEUS_API_ACCESS_TOKEN\")\n",
    "BASE_URL = os.getenv(\"AMADEUS_API_BASE_URL\")\n",
    "\n",
    "# Calcula a data de 3 anos atrás a partir da data atual\n",
    "hoje = date.today()\n",
    "tres_anos_atras = hoje - timedelta(days=3 * 365)\n",
    "\n",
    "# Parâmetros da busca de voos\n",
    "params = {\n",
    "    \"originLocationCode\": \"GRU\",  # Aeroporto de São Paulo\n",
    "    \"destinationLocationCode\": \"LIM\",  # Aeroporto de Lima\n",
    "    \"departureDate\": \"2023-10-02\",\n",
    "    \"adults\": 1,\n",
    "    \"currencyCode\": \"BRL\",\n",
    "    \"max\": 10,  # Número máximo de resultados\n",
    "}\n",
    "\n",
    "# Faça a chamada à API da Amadeus usando a biblioteca 'requests'\n",
    "response = requests.get(\n",
    "    BASE_URL,\n",
    "    params=params,\n",
    "    headers={\n",
    "        \"Authorization\": f\"Bearer {API_ACCESS_TOKEN}\",\n",
    "    },\n",
    ")\n",
    "\n",
    "# Verifique se a resposta foi bem-sucedida\n"
   ]
  },
  {
   "cell_type": "code",
   "execution_count": 5,
   "metadata": {},
   "outputs": [
    {
     "name": "stdout",
     "output_type": "stream",
     "text": [
      "Preço R$: 981.18 Data Flight: 2023-04-17\n",
      "Preço R$: 981.18 Data Flight: 2023-04-17\n",
      "Preço R$: 981.18 Data Flight: 2023-04-17\n",
      "Preço R$: 981.18 Data Flight: 2023-04-17\n",
      "Preço R$: 981.18 Data Flight: 2023-04-17\n",
      "Preço R$: 1057.21 Data Flight: 2023-04-17\n",
      "Preço R$: 1057.21 Data Flight: 2023-04-17\n",
      "Preço R$: 1057.21 Data Flight: 2023-04-17\n",
      "Preço R$: 1057.21 Data Flight: 2023-04-17\n",
      "Preço R$: 1057.21 Data Flight: 2023-04-17\n"
     ]
    }
   ],
   "source": [
    "if response.status_code == 200:\n",
    "    data = response.json()\n",
    "    # Extraia os dados de preços de voos do JSON de resposta\n",
    "    # Exemplo de extração de preços:\n",
    "    for offer in data[\"data\"]:\n",
    "        price = offer[\"price\"][\"grandTotal\"]\n",
    "        print(f\"Preço R$: {price}\")\n",
    "    # print(f\"Conteúdo da chamada da API: {response.text}\")\n",
    "else:\n",
    "    print(f\"Erro na chamada da API: {response.status_code} - {response.text}\")"
   ]
  },
  {
   "cell_type": "code",
   "execution_count": 1,
   "metadata": {},
   "outputs": [
    {
     "ename": "NameError",
     "evalue": "name 'offer' is not defined",
     "output_type": "error",
     "traceback": [
      "\u001b[1;31m---------------------------------------------------------------------------\u001b[0m",
      "\u001b[1;31mNameError\u001b[0m                                 Traceback (most recent call last)",
      "Cell \u001b[1;32mIn[1], line 2\u001b[0m\n\u001b[0;32m      1\u001b[0m \u001b[39m# print(type(offer['itineraries']))\u001b[39;00m\n\u001b[1;32m----> 2\u001b[0m \u001b[39mprint\u001b[39m(offer[\u001b[39m'\u001b[39m\u001b[39mitineraries\u001b[39m\u001b[39m'\u001b[39m])\n",
      "\u001b[1;31mNameError\u001b[0m: name 'offer' is not defined"
     ]
    }
   ],
   "source": [
    "# print(type(offer['itineraries']))\n",
    "print(offer['itineraries'])"
   ]
  }
 ],
 "metadata": {
  "kernelspec": {
   "display_name": ".venv",
   "language": "python",
   "name": "python3"
  },
  "language_info": {
   "codemirror_mode": {
    "name": "ipython",
    "version": 3
   },
   "file_extension": ".py",
   "mimetype": "text/x-python",
   "name": "python",
   "nbconvert_exporter": "python",
   "pygments_lexer": "ipython3",
   "version": "3.10.5"
  },
  "orig_nbformat": 4
 },
 "nbformat": 4,
 "nbformat_minor": 2
}
